{
 "cells": [
  {
   "cell_type": "markdown",
   "id": "dfc3fbd0",
   "metadata": {},
   "source": [
    "# Multivariable Linear Regression Using Formulation"
   ]
  },
  {
   "cell_type": "code",
   "execution_count": 1,
   "id": "5b1416b9",
   "metadata": {},
   "outputs": [],
   "source": [
    "import numpy as np"
   ]
  },
  {
   "cell_type": "code",
   "execution_count": 2,
   "id": "6dd089e3",
   "metadata": {},
   "outputs": [],
   "source": [
    "# define the data\n",
    "X = np.array([[1, 1, 2, 3], [1, 2, 3, 5], [1, 4, 3, -1], [1, 8, 6, 4]])\n",
    "y = np.array([4, 8, 5, 10]).reshape(-1, 1)"
   ]
  },
  {
   "cell_type": "code",
   "execution_count": 3,
   "id": "a0f827a2",
   "metadata": {},
   "outputs": [],
   "source": [
    "w = np.linalg.inv(X.T@X)@X.T @ y"
   ]
  },
  {
   "cell_type": "code",
   "execution_count": 4,
   "id": "d2b9b78b",
   "metadata": {},
   "outputs": [
    {
     "name": "stdout",
     "output_type": "stream",
     "text": [
      "w1~n is [-9.75 19.25 -2.75]\n",
      "w0 is [-16.5]\n"
     ]
    }
   ],
   "source": [
    "print('w1~n is', w[1:].flatten())\n",
    "print('w0 is', w[0])"
   ]
  },
  {
   "cell_type": "markdown",
   "id": "c93ba82d",
   "metadata": {},
   "source": [
    "# Multivariable Linear Regression Using Scikit-learn"
   ]
  },
  {
   "cell_type": "code",
   "execution_count": 5,
   "id": "522e132d",
   "metadata": {},
   "outputs": [],
   "source": [
    "from sklearn.linear_model import LinearRegression"
   ]
  },
  {
   "cell_type": "code",
   "execution_count": 6,
   "id": "10d8ce3f",
   "metadata": {},
   "outputs": [],
   "source": [
    "# define the data\n",
    "X = np.array([[1, 2, 3], [2, 3, 5], [4, 3, -1], [8, 6, 4]])\n",
    "y = np.array([4, 8, 5, 10])"
   ]
  },
  {
   "cell_type": "code",
   "execution_count": 7,
   "id": "695b28e7",
   "metadata": {
    "scrolled": true
   },
   "outputs": [
    {
     "name": "stdout",
     "output_type": "stream",
     "text": [
      "w1 is [-9.75 19.25 -2.75]\n",
      "w0 is -16.499999999999854\n"
     ]
    }
   ],
   "source": [
    "reg = LinearRegression().fit(X, y)\n",
    "\n",
    "print('w1 is', reg.coef_)\n",
    "print('w0 is', reg.intercept_)"
   ]
  }
 ],
 "metadata": {
  "kernelspec": {
   "display_name": "modeling",
   "language": "python",
   "name": "modeling"
  },
  "language_info": {
   "codemirror_mode": {
    "name": "ipython",
    "version": 3
   },
   "file_extension": ".py",
   "mimetype": "text/x-python",
   "name": "python",
   "nbconvert_exporter": "python",
   "pygments_lexer": "ipython3",
   "version": "3.8.11"
  }
 },
 "nbformat": 4,
 "nbformat_minor": 5
}
