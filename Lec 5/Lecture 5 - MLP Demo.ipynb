{
 "cells": [
  {
   "cell_type": "markdown",
   "id": "3a0cb421",
   "metadata": {},
   "source": [
    "# Lecture 5 - Multi-layer Perceptron Demo\n",
    "## From Scratch\n",
    "Author: Kaihang Zhang<br>\n",
    " khzhang2@connect.hku.hk <br>\n",
    "208 Haking Wong Building<br>\n",
    "Department of Civil Engineering<br>\n",
    "The University of Hong Kong<br>\n"
   ]
  },
  {
   "cell_type": "code",
   "execution_count": 1,
   "id": "8fc36cf4",
   "metadata": {},
   "outputs": [],
   "source": [
    "##################################################################################################################\n",
    "##      Script template created for the course CIVL 7018 at The University of Hong Kong.                        ##\n",
    "##      in Spring 2023 semester                                                                                 ##\n",
    "##      Licensing Information:  You are free to use or extend this project if:                                  ##\n",
    "##          (1) You don't distribute or publish coding solutions for CIVL 7018 Assignments online.              ##\n",
    "##          (2) You retain this notice.                                                                         ##\n",
    "##          (3) You provide clear attribution to The University of Hong Kong                                    ##\n",
    "##################################################################################################################"
   ]
  },
  {
   "cell_type": "markdown",
   "id": "bcb12438",
   "metadata": {},
   "source": [
    "Consider the ridership of a public transportation system in the San Francisco\n",
    "bay area, Bay Area Rapid Transit (BART). Recently, a group of researchers is\n",
    "assuming that the ridership of the transit system is related to some\n",
    "socio-economic factors, which are preliminarily the **total population near\n",
    "each station, number of households that own 0 vehicles, total\n",
    "employment, and total road network density**. The raw census data is\n",
    "collected by the [Environment Protection Agency of the United States](https://www.epa.gov/sites/default/files/2021-06/documents/epa_sld_3.0_technicaldocumentationuserguide_may2021.pdf) while\n",
    "the ridership data is available at the BART’s [official website](https://www.bart.gov/about/reports/ridership). The data for the\n",
    "catchment area for each station is processed by Github user [HaTT2018](https://github.com/HaTT2018/BART_Ridership_Prediction)."
   ]
  },
  {
   "cell_type": "markdown",
   "id": "ea3aee3c",
   "metadata": {},
   "source": [
    "To make this problem as simple as possible, we only investigate the ridership from station *Embarcadero* (the CBD of San Francisco) to other stations. (picture adopted from https://www.bart.gov/system-map)\n",
    "\n",
    "<img title=\"Map of BART\" src=\"./img/BART.png\" width=\"800\">"
   ]
  },
  {
   "cell_type": "code",
   "execution_count": 2,
   "id": "5e48f375",
   "metadata": {},
   "outputs": [],
   "source": [
    "import numpy as np\n",
    "import pandas as pd\n",
    "import matplotlib.pyplot as plt\n",
    "from sklearn.preprocessing import minmax_scale"
   ]
  },
  {
   "cell_type": "code",
   "execution_count": 3,
   "id": "b4a85826",
   "metadata": {},
   "outputs": [
    {
     "data": {
      "text/html": [
       "<div>\n",
       "<style scoped>\n",
       "    .dataframe tbody tr th:only-of-type {\n",
       "        vertical-align: middle;\n",
       "    }\n",
       "\n",
       "    .dataframe tbody tr th {\n",
       "        vertical-align: top;\n",
       "    }\n",
       "\n",
       "    .dataframe thead th {\n",
       "        text-align: right;\n",
       "    }\n",
       "</style>\n",
       "<table border=\"1\" class=\"dataframe\">\n",
       "  <thead>\n",
       "    <tr style=\"text-align: right;\">\n",
       "      <th></th>\n",
       "      <th>TotPop</th>\n",
       "      <th>AutoOwn0</th>\n",
       "      <th>TotEmp</th>\n",
       "      <th>Tot Rd Dens</th>\n",
       "    </tr>\n",
       "  </thead>\n",
       "  <tbody>\n",
       "    <tr>\n",
       "      <th>0</th>\n",
       "      <td>11084</td>\n",
       "      <td>1664</td>\n",
       "      <td>33120</td>\n",
       "      <td>42.232657</td>\n",
       "    </tr>\n",
       "    <tr>\n",
       "      <th>1</th>\n",
       "      <td>142973</td>\n",
       "      <td>20505</td>\n",
       "      <td>103479</td>\n",
       "      <td>32.296762</td>\n",
       "    </tr>\n",
       "    <tr>\n",
       "      <th>2</th>\n",
       "      <td>36177</td>\n",
       "      <td>4704</td>\n",
       "      <td>47570</td>\n",
       "      <td>31.822631</td>\n",
       "    </tr>\n",
       "    <tr>\n",
       "      <th>3</th>\n",
       "      <td>104191</td>\n",
       "      <td>8018</td>\n",
       "      <td>39663</td>\n",
       "      <td>32.894203</td>\n",
       "    </tr>\n",
       "    <tr>\n",
       "      <th>4</th>\n",
       "      <td>70630</td>\n",
       "      <td>1142</td>\n",
       "      <td>13924</td>\n",
       "      <td>20.531431</td>\n",
       "    </tr>\n",
       "  </tbody>\n",
       "</table>\n",
       "</div>"
      ],
      "text/plain": [
       "   TotPop  AutoOwn0  TotEmp  Tot Rd Dens\n",
       "0   11084      1664   33120    42.232657\n",
       "1  142973     20505  103479    32.296762\n",
       "2   36177      4704   47570    31.822631\n",
       "3  104191      8018   39663    32.894203\n",
       "4   70630      1142   13924    20.531431"
      ]
     },
     "execution_count": 3,
     "metadata": {},
     "output_type": "execute_result"
    }
   ],
   "source": [
    "# take the first 48 stations becasue the \n",
    "# last 2 stations were not yet opened\n",
    "# by the time this data was collected\n",
    "data_BART_sld = pd.read_csv('data_X.csv').iloc[:48, 1:]\n",
    "data_BART_sld.head()"
   ]
  },
  {
   "cell_type": "code",
   "execution_count": 4,
   "id": "7c181748",
   "metadata": {},
   "outputs": [],
   "source": [
    "# The file \"3d_daily.npy\" contains the daily ridership\n",
    "# data from each station to all the other stations.\n",
    "# Its shape is [50, 50, 365]. Each dimension represents\n",
    "# origin, destination, day in the year respectively\n",
    "\n",
    "# Embarcadero is the 18th station in the list\n",
    "OD_BART = np.load('3d_daily.npy').sum(axis=2)[17, :48]"
   ]
  },
  {
   "cell_type": "code",
   "execution_count": 5,
   "id": "92bb5761",
   "metadata": {},
   "outputs": [
    {
     "name": "stdout",
     "output_type": "stream",
     "text": [
      "Shape of data_BART_sld (48, 4)\n",
      "Shape of OD_BART (48,)\n"
     ]
    }
   ],
   "source": [
    "print('Shape of data_BART_sld', data_BART_sld.shape)\n",
    "print('Shape of OD_BART', OD_BART.shape)"
   ]
  },
  {
   "cell_type": "markdown",
   "id": "ab5bff3d",
   "metadata": {},
   "source": [
    "## The model layout"
   ]
  },
  {
   "cell_type": "markdown",
   "id": "9a3dbd97",
   "metadata": {},
   "source": [
    "Our job is to train an MLP model which takes \"data_BART_sld\" as input and generate \"OD_BART\" as output and make it as close to the real data as possible.\n",
    "\n",
    "Consider a simple MLP, with 1 input layer, 1 hidden layer, and 1 output layer. The input layer has a dimension of 4 because we have 4 attributes of the scio-economic census. The output layer is 1-dimensional because the ridership is a scalar. The number of dimension of the hidden layer is set to be 2 for the sake of simplicity. The activation function is ReLU (instead of sigmoid function as introduced in the lecture) just to simplify the problem. $ReLU(x)=x$ for $x>=0$ and $ReLU(x)=0$ for $x<0$. The model layout is shown in the figure below.\n",
    "\n",
    "<img src=\"./img/MLP_demo.png\" width=\"500\">"
   ]
  },
  {
   "cell_type": "markdown",
   "id": "b368aff6",
   "metadata": {},
   "source": [
    "For simplicity, let's ignore bias in this MLP.\n",
    "\n",
    "We have: \n",
    "\n",
    "$o1 = k_1 \\times a_1 + k_2 \\times a_2$\n",
    "\n",
    "$a_1 = ReLU(h_1)$,\n",
    "$a_2 = ReLU(h_2)$ \n",
    "\n",
    "$h_1 = x_1 \\times w_{11}+x_2 \\times w_{12}+x_3 \\times w_{13}+x_4 \\times w_{14}$ \n",
    "\n",
    "$h_2 = x_2 \\times w_{21}+x_2 \\times w_{22}+x_3 \\times w_{23}+x_4 \\times w_{24}$ \n",
    "\n",
    "In vector-matrix form, we have:\n",
    "\n",
    "$X = \\begin{bmatrix} x_1 \\\\ x_2 \\\\ x_3 \\\\ x_4 \\end{bmatrix}$,\n",
    "$H = \\begin{bmatrix} h_1 \\\\ h_2 \\end{bmatrix}$,\n",
    "$A = \\begin{bmatrix} a_1 \\\\ a_2 \\end{bmatrix}$,\n",
    "$W = \\begin{bmatrix} w_{11} & w_{12} & w_{13} & w_{14} \\\\ w_{21} & w_{22} & w_{23} & w_{24} \\end{bmatrix}$,\n",
    "$K = \\begin{bmatrix} k_1 & k_2 \\end{bmatrix}$ \n",
    "\n",
    "$H = W \\times X$\n",
    "\n",
    "$A = ReLU(H)$\n",
    "\n",
    "$O = K \\times A$\n",
    "\n",
    "Finally, $O = K \\times ReLU(W \\times X)$"
   ]
  },
  {
   "cell_type": "markdown",
   "id": "e9fc570e",
   "metadata": {},
   "source": [
    "## Gradient descent and the loss function"
   ]
  },
  {
   "cell_type": "markdown",
   "id": "a7f558a3",
   "metadata": {},
   "source": [
    "Suppose the label true value is $Y$ given input $\\vec{X} = \\begin{bmatrix} x_1 \\\\ x_2 \\\\ x_3 \\\\ x_4 \\end{bmatrix}$, and we use squared loss function $L = \\frac{1}{2}(o1 - y)^2$.\n",
    "\n",
    "$W$ and $K$ contain all the parameters (10 numbers in total) we need to update in the training process.\n",
    "\n",
    "Before training starts, we assign some random initial values to our parameters $W$ and $K$.\n",
    "\n",
    "During training, we obtain $\\frac{\\partial L}{\\partial W}$ and $\\frac{\\partial L}{\\partial K}$, then we use $W_i = W_{i-1} - \\frac{\\partial L}{\\partial W} \\times lr$ and $K_i = K_{i-1} - \\frac{\\partial L}{\\partial K} \\times lr$ to update $W$ and $K$ in order to make loss L smaller and smaller.\n",
    "\n",
    "This is the basic idea of gradient decent, which is a popular set of non-convex optimization methods used in machine learning especially in deep learning."
   ]
  },
  {
   "cell_type": "markdown",
   "id": "09cc084f",
   "metadata": {},
   "source": [
    "## The expressions for the gradients of our 8 parameters in $W$ and 2 parameters in $K$"
   ]
  },
  {
   "cell_type": "markdown",
   "id": "75bff6e4",
   "metadata": {},
   "source": [
    "Our loss function is: $L = \\frac{1}{2}(o1-y)^2 = \\frac{1}{2}(K \\times A - y)^2 = \\frac{1}{2}((k_1 \\times a_1 + k_2 \\times a_2) - y)^2$\n",
    "\n",
    "$\\frac{\\partial L}{\\partial K} = \n",
    "\\begin{bmatrix} \\frac{\\partial L}{\\partial k_1} \\\\ \\frac{\\partial L}{\\partial k_2} \\end{bmatrix} = \n",
    "\\begin{bmatrix} \\frac{\\partial L}{\\partial o1} \\frac{\\partial o1}{\\partial k_1} \\\\ \\frac{\\partial L}{\\partial o1} \\frac{\\partial o1}{\\partial k_2} \\end{bmatrix} = \n",
    "\\begin{bmatrix} (o1-y) a_1 \\\\ (o1-y) a_2 \\end{bmatrix} = \n",
    "\\begin{bmatrix}a_1 \\\\ a_2\\end{bmatrix}(o1-y) = A(o1-y)$\n",
    "\n",
    "$\\frac{\\partial L}{\\partial W}$ = \n",
    "$\\begin{bmatrix} \n",
    "\\frac{\\partial L}{\\partial w_{11}} & \\frac{\\partial L}{\\partial w_{12}} & \\frac{\\partial L}{\\partial w_{13}} & \\frac{\\partial L}{\\partial w_{14}} \\\\ \n",
    "\\frac{\\partial L}{\\partial w_{21}} & \\frac{\\partial L}{\\partial w_{22}} & \\frac{\\partial L}{\\partial w_{23}} & \\frac{\\partial L}{\\partial w_{24}}\n",
    "\\end{bmatrix}$ = \n",
    "$\\begin{bmatrix} \n",
    "  \\frac{\\partial L}{\\partial o1}\\frac{\\partial o1}{\\partial a_1}\\frac{\\partial a_1}{\\partial h_1}\\frac{\\partial h_1}{\\partial w_{11}} \n",
    "& \\frac{\\partial L}{\\partial o1}\\frac{\\partial o1}{\\partial a_1}\\frac{\\partial a_1}{\\partial h_1}\\frac{\\partial h_1}{\\partial w_{12}} \n",
    "& \\frac{\\partial L}{\\partial o1}\\frac{\\partial o1}{\\partial a_1}\\frac{\\partial a_1}{\\partial h_1}\\frac{\\partial h_1}{\\partial w_{13}}\n",
    "& \\frac{\\partial L}{\\partial o1}\\frac{\\partial o1}{\\partial a_1}\\frac{\\partial a_1}{\\partial h_1}\\frac{\\partial h_1}{\\partial w_{14}} \\\\ \n",
    "  \\frac{\\partial L}{\\partial o1}\\frac{\\partial o1}{\\partial a_2}\\frac{\\partial a_2}{\\partial h_2}\\frac{\\partial h_2}{\\partial w_{21}} \n",
    "& \\frac{\\partial L}{\\partial o1}\\frac{\\partial o1}{\\partial a_2}\\frac{\\partial a_2}{\\partial h_2}\\frac{\\partial h_2}{\\partial w_{22}} \n",
    "& \\frac{\\partial L}{\\partial o1}\\frac{\\partial o1}{\\partial a_2}\\frac{\\partial a_2}{\\partial h_2}\\frac{\\partial h_2}{\\partial w_{23}} \n",
    "& \\frac{\\partial L}{\\partial o1}\\frac{\\partial o1}{\\partial a_2}\\frac{\\partial a_2}{\\partial h_2}\\frac{\\partial h_2}{\\partial w_{24}} \n",
    "\\end{bmatrix}$ =\n",
    "$\\begin{bmatrix} \n",
    "  (o1-y)k_1\\frac{\\partial ReLU(h_1)}{\\partial h_1}x_1 \n",
    "& (o1-y)k_1\\frac{\\partial ReLU(h_1)}{\\partial h_1}x_2\n",
    "& (o1-y)k_1\\frac{\\partial ReLU(h_1)}{\\partial h_1}x_3\n",
    "& (o1-y)k_1\\frac{\\partial ReLU(h_1)}{\\partial h_1}x_4 \\\\ \n",
    "  (o1-y)k_2\\frac{\\partial ReLU(h_2)}{\\partial h_2}x_1\n",
    "& (o1-y)k_2\\frac{\\partial ReLU(h_2)}{\\partial h_2}x_2\n",
    "& (o1-y)k_2\\frac{\\partial ReLU(h_2)}{\\partial h_2}x_3\n",
    "& (o1-y)k_2\\frac{\\partial ReLU(h_2)}{\\partial h_2}x_4\n",
    "\\end{bmatrix}$ = \n",
    "$(o1-y)\\begin{bmatrix} \n",
    "k_1\\frac{\\partial ReLU(h_1)}{\\partial h_1} \\\\ \n",
    "k_2\\frac{\\partial ReLU(h_2)}{\\partial h_2}\n",
    "\\end{bmatrix} \\begin{bmatrix} x_1 & x_2 & x_3 & x_4 \\end{bmatrix}$ =\n",
    "$\\begin{bmatrix}\n",
    "k_1 & 0 \\\\\n",
    "0 & k_2 \n",
    "\\end{bmatrix}\n",
    "\\begin{bmatrix} \n",
    "\\frac{\\partial ReLU(h_1)}{\\partial h_1} \\\\ \n",
    "\\frac{\\partial ReLU(h_2)}{\\partial h_2}\n",
    "\\end{bmatrix} \n",
    "(o1-y)\n",
    "\\begin{bmatrix} x_1 & x_2 & x_3 & x_4 \\end{bmatrix}$"
   ]
  },
  {
   "cell_type": "code",
   "execution_count": 6,
   "id": "ea2bfd57",
   "metadata": {},
   "outputs": [],
   "source": [
    "# define the relu function\n",
    "def relu(X):\n",
    "    # X: A numpy.ndarray object\n",
    "    # return: ReLU function, ReLU(x)=x for x>=0 and ReLU(x)=0 for x<0\n",
    "    \n",
    "    ret = np.zeros(X.shape)\n",
    "    ind = X > 0\n",
    "    ret[ind] += X[ind]\n",
    "    return ret"
   ]
  },
  {
   "cell_type": "code",
   "execution_count": 7,
   "id": "4876021e",
   "metadata": {},
   "outputs": [],
   "source": [
    "# define the partial derivative of relu function\n",
    "def prelu(X):\n",
    "    # X: A numpy.ndarray object\n",
    "    # return: gradient of relu function with respect to its input\n",
    "    \n",
    "    ret = np.zeros(X.shape)\n",
    "    ret[X > 0] = 1\n",
    "    return ret"
   ]
  },
  {
   "cell_type": "code",
   "execution_count": 8,
   "id": "6afee102",
   "metadata": {},
   "outputs": [],
   "source": [
    "# define the forward propagation\n",
    "def DNNforward(X, W, K):\n",
    "    # X: dataset input features, numpy.ndarray\n",
    "    # W: current weight matrix W, numpy.ndarray of shape (2,3)\n",
    "    # K: current weight matrix K, numpy.ndarray of shape (2,)\n",
    "    # return: (H, A, O)\n",
    "    # H: current hidden layer output value H, numpy.ndarray\n",
    "    # A: current activation layer output A, numpy.ndarray\n",
    "    # O: current DNN model output O, numpy.ndarray\n",
    "    \n",
    "    H = W @ X.T\n",
    "    A = relu(H)\n",
    "    O = K @ A\n",
    "    return H, A, O"
   ]
  },
  {
   "cell_type": "code",
   "execution_count": 9,
   "id": "fc3662bf",
   "metadata": {},
   "outputs": [],
   "source": [
    "# define the backward propagation\n",
    "def DNNbackward(X, y, W, K, H, A, O):\n",
    "    # X: dataset input features, numpy.ndarray\n",
    "    # y: dataset labels, numpy.ndarray\n",
    "    # W: current weight matrix W, numpy.ndarray\n",
    "    # K: current weight matrix K, numpy.ndarray\n",
    "    # H: current hidden layer output value H, numpy.ndarray\n",
    "    # A: current activation layer output A, numpy.ndarray\n",
    "    # O: current DNN model output O, numpy.ndarray\n",
    "    # return: (pLpW, pLpK)\n",
    "    # pLpW: current gradient of Loss with respect to W\n",
    "    # pLpK: current gradient of Loss with respect to K\n",
    "    \n",
    "    pLpW = np.array([[K[0], 0], [0, K[1]]]) @ prelu(H) * (O-y) @ X\n",
    "    pLpK = A @ (O-y)\n",
    "    return pLpW/X.shape[0], pLpK/X.shape[0]"
   ]
  },
  {
   "cell_type": "code",
   "execution_count": 10,
   "id": "ee207197",
   "metadata": {},
   "outputs": [],
   "source": [
    "# gradient decent function in batches\n",
    "def train(X, y, W, K, lr, num_epochs=10, batch_size=10, print_loss=False):\n",
    "    # X: dataset input features, numpy.ndarray\n",
    "    # y: dataset labels, numpy.ndarray\n",
    "    # W: current weight matrix W, numpy.ndarray\n",
    "    # K: current weight matrix K, numpy.ndarray\n",
    "    # lr: learning rate, float or int\n",
    "    # nump_epochs: total number of epochs we train our NN model, int\n",
    "    # batch_size: number of samples in each batch, int\n",
    "    # print_loss: whether we print loss in each epoch during training, bool\n",
    "    # return: (W_list, K_list)\n",
    "    # W_list: list of numpy.ndarrays containing all the W parameters after each epoch\n",
    "    # K_list: list of numpy.ndarrays containing all the K parameters after each epoch\n",
    "    W_list, K_list = [], []\n",
    "    train_loss, val_loss = [], []\n",
    "    dataset_size = len(y)\n",
    "    for epoch in range(num_epochs):\n",
    "        for batch_idx in range(int(np.ceil(dataset_size/batch_size))):\n",
    "            start_idx = batch_idx * batch_size\n",
    "            end_idx = min((batch_idx+1)*batch_size, dataset_size-1)\n",
    "            H, A, O = DNNforward(X[start_idx:end_idx], W, K)\n",
    "            if print_loss:\n",
    "                print(\"Epoch \"+str(epoch+1)+\", batch \"+str(batch_idx+1)+\", loss = \"+str(loss(y[start_idx:end_idx], O)), end='\\n')\n",
    "            # update W and K\n",
    "            pLpW, pLpK = DNNbackward(X[start_idx:end_idx, :], y[start_idx:end_idx], W, K, H, A, O)\n",
    "            W = W - lr*pLpW\n",
    "            K = K - lr*pLpK\n",
    "            train_loss.append(loss(y[start_idx:end_idx], O))\n",
    "            \n",
    "            _,_,y_val_pred = DNNforward(X_val, W, K)\n",
    "            val_loss.append(loss(y_val_pred, y_val))\n",
    "            \n",
    "        W_list.append(W)\n",
    "        K_list.append(K)\n",
    "    return W_list, K_list, train_loss, val_loss"
   ]
  },
  {
   "cell_type": "code",
   "execution_count": 11,
   "id": "e9f29f42",
   "metadata": {},
   "outputs": [],
   "source": [
    "# define the loss function\n",
    "def loss(y, O):\n",
    "    # we use squared loss\n",
    "    return np.mean(1/2 * (y-O)**2)"
   ]
  },
  {
   "cell_type": "markdown",
   "id": "fa049874",
   "metadata": {},
   "source": [
    "## Prepare data\n",
    "We divide the original data into two parts, 70% for training and 30% for model validation."
   ]
  },
  {
   "cell_type": "code",
   "execution_count": 58,
   "id": "37bc10b5",
   "metadata": {},
   "outputs": [],
   "source": [
    "X_train = minmax_scale(data_BART_sld)[:33, :]\n",
    "y_train = minmax_scale(OD_BART)[:33]\n",
    "X_val = minmax_scale(data_BART_sld)[33:, :]\n",
    "y_val = minmax_scale(OD_BART)[33:]"
   ]
  },
  {
   "cell_type": "code",
   "execution_count": 71,
   "id": "1339308d",
   "metadata": {},
   "outputs": [],
   "source": [
    "# initialize weight parameters\n",
    "np.random.seed(30)\n",
    "W = np.random.uniform(size=(2,4))\n",
    "K = np.random.uniform(size=(2))\n",
    "\n",
    "# set learning rate\n",
    "lr = 0.01"
   ]
  },
  {
   "cell_type": "code",
   "execution_count": 77,
   "id": "6efb36fd",
   "metadata": {
    "scrolled": true
   },
   "outputs": [
    {
     "name": "stdout",
     "output_type": "stream",
     "text": [
      "Epoch 1, batch 1, loss = 0.1099915139665769\n",
      "Epoch 2, batch 1, loss = 0.10800894313197042\n",
      "Epoch 3, batch 1, loss = 0.1060935822212688\n",
      "Epoch 4, batch 1, loss = 0.10424278309012733\n",
      "Epoch 5, batch 1, loss = 0.10245402023510325\n",
      "Epoch 6, batch 1, loss = 0.10072488415414454\n",
      "Epoch 7, batch 1, loss = 0.09905307512055103\n",
      "Epoch 8, batch 1, loss = 0.09743639734130587\n",
      "Epoch 9, batch 1, loss = 0.0958727534729571\n",
      "Epoch 10, batch 1, loss = 0.09436013947031187\n",
      "Epoch 11, batch 1, loss = 0.0928966397451124\n",
      "Epoch 12, batch 1, loss = 0.09148042261360684\n",
      "Epoch 13, batch 1, loss = 0.09010973601352555\n",
      "Epoch 14, batch 1, loss = 0.0887829034724384\n",
      "Epoch 15, batch 1, loss = 0.08749832031081076\n",
      "Epoch 16, batch 1, loss = 0.08625445006431041\n",
      "Epoch 17, batch 1, loss = 0.08504982111104928\n",
      "Epoch 18, batch 1, loss = 0.0838830234904856\n",
      "Epoch 19, batch 1, loss = 0.08275270590167044\n",
      "Epoch 20, batch 1, loss = 0.08165757286940355\n",
      "Epoch 21, batch 1, loss = 0.08059638206767693\n",
      "Epoch 22, batch 1, loss = 0.07956794179053224\n",
      "Epoch 23, batch 1, loss = 0.07857110856114952\n",
      "Epoch 24, batch 1, loss = 0.07760478487062208\n",
      "Epoch 25, batch 1, loss = 0.07666791703846106\n",
      "Epoch 26, batch 1, loss = 0.07575949318741707\n",
      "Epoch 27, batch 1, loss = 0.07487854132571004\n",
      "Epoch 28, batch 1, loss = 0.07402412753022312\n",
      "Epoch 29, batch 1, loss = 0.07319535422464818\n",
      "Epoch 30, batch 1, loss = 0.07239135854696901\n",
      "Epoch 31, batch 1, loss = 0.071611310801039\n",
      "Epoch 32, batch 1, loss = 0.07085441298735241\n",
      "Epoch 33, batch 1, loss = 0.07011989740842806\n",
      "Epoch 34, batch 1, loss = 0.06940702534451818\n",
      "Epoch 35, batch 1, loss = 0.06871508579563121\n",
      "Epoch 36, batch 1, loss = 0.06804339428611209\n",
      "Epoch 37, batch 1, loss = 0.06739129172826042\n",
      "Epoch 38, batch 1, loss = 0.06675814334168878\n",
      "Epoch 39, batch 1, loss = 0.06614333762532773\n",
      "Epoch 40, batch 1, loss = 0.06554628537917671\n",
      "Epoch 41, batch 1, loss = 0.06496641877307748\n",
      "Epoch 42, batch 1, loss = 0.06440319045995341\n",
      "Epoch 43, batch 1, loss = 0.06385607273111345\n",
      "Epoch 44, batch 1, loss = 0.06332455671136322\n",
      "Epoch 45, batch 1, loss = 0.06280815159180211\n",
      "Epoch 46, batch 1, loss = 0.06230638389831038\n",
      "Epoch 47, batch 1, loss = 0.06181879679384886\n",
      "Epoch 48, batch 1, loss = 0.06134494941280384\n",
      "Epoch 49, batch 1, loss = 0.060884416225712785\n",
      "Epoch 50, batch 1, loss = 0.060436786432803105\n",
      "Epoch 51, batch 1, loss = 0.060001663384866455\n",
      "Epoch 52, batch 1, loss = 0.05957866403007568\n",
      "Epoch 53, batch 1, loss = 0.05916741838543077\n",
      "Epoch 54, batch 1, loss = 0.05876756903159415\n",
      "Epoch 55, batch 1, loss = 0.05837877062994577\n",
      "Epoch 56, batch 1, loss = 0.058000689460753464\n",
      "Epoch 57, batch 1, loss = 0.057633002981415174\n",
      "Epoch 58, batch 1, loss = 0.05727539940378779\n",
      "Epoch 59, batch 1, loss = 0.05692757728967065\n",
      "Epoch 60, batch 1, loss = 0.05658924516356305\n",
      "Epoch 61, batch 1, loss = 0.05626012114186268\n",
      "Epoch 62, batch 1, loss = 0.05593993257771669\n",
      "Epoch 63, batch 1, loss = 0.05562841572077938\n",
      "Epoch 64, batch 1, loss = 0.05532531539117018\n",
      "Epoch 65, batch 1, loss = 0.05503038466696295\n",
      "Epoch 66, batch 1, loss = 0.05474338458457297\n",
      "Epoch 67, batch 1, loss = 0.05446408385144087\n",
      "Epoch 68, batch 1, loss = 0.0541922585704442\n",
      "Epoch 69, batch 1, loss = 0.0539276919754967\n",
      "Epoch 70, batch 1, loss = 0.05367017417782314\n",
      "Epoch 71, batch 1, loss = 0.05341950192242377\n",
      "Epoch 72, batch 1, loss = 0.05317547835426704\n",
      "Epoch 73, batch 1, loss = 0.05293791279377268\n",
      "Epoch 74, batch 1, loss = 0.05270662052116929\n",
      "Epoch 75, batch 1, loss = 0.052481422569331186\n",
      "Epoch 76, batch 1, loss = 0.05226214552471916\n",
      "Epoch 77, batch 1, loss = 0.05204862133606811\n",
      "Epoch 78, batch 1, loss = 0.05184068713048222\n",
      "Epoch 79, batch 1, loss = 0.05163818503661516\n",
      "Epoch 80, batch 1, loss = 0.051440962014627875\n",
      "Epoch 81, batch 1, loss = 0.051248869692631975\n",
      "Epoch 82, batch 1, loss = 0.05106176420934081\n",
      "Epoch 83, batch 1, loss = 0.05087950606266292\n",
      "Epoch 84, batch 1, loss = 0.05070195996398627\n",
      "Epoch 85, batch 1, loss = 0.05052899469791257\n",
      "Epoch 86, batch 1, loss = 0.05036048298721283\n",
      "Epoch 87, batch 1, loss = 0.0501963013627864\n",
      "Epoch 88, batch 1, loss = 0.050036330038414775\n",
      "Epoch 89, batch 1, loss = 0.049880452790112495\n",
      "Epoch 90, batch 1, loss = 0.04972855683988543\n",
      "Epoch 91, batch 1, loss = 0.04958053274371639\n",
      "Epoch 92, batch 1, loss = 0.04943627428360535\n",
      "Epoch 93, batch 1, loss = 0.04929567836350031\n",
      "Epoch 94, batch 1, loss = 0.04915864490896149\n",
      "Epoch 95, batch 1, loss = 0.04902507677040914\n",
      "Epoch 96, batch 1, loss = 0.04889487962981163\n",
      "Epoch 97, batch 1, loss = 0.04876796191067706\n",
      "Epoch 98, batch 1, loss = 0.048644234691217814\n",
      "Epoch 99, batch 1, loss = 0.04852361162056261\n",
      "Epoch 100, batch 1, loss = 0.048406008837897224\n",
      "Epoch 101, batch 1, loss = 0.048291344894419025\n",
      "Epoch 102, batch 1, loss = 0.04817954067799629\n",
      "Epoch 103, batch 1, loss = 0.048070519340427866\n",
      "Epoch 104, batch 1, loss = 0.04796420622720279\n",
      "Epoch 105, batch 1, loss = 0.04786052880966441\n",
      "Epoch 106, batch 1, loss = 0.04775941661948713\n",
      "Epoch 107, batch 1, loss = 0.047660801185378035\n",
      "Epoch 108, batch 1, loss = 0.0475646159719194\n",
      "Epoch 109, batch 1, loss = 0.047470796320471464\n",
      "Epoch 110, batch 1, loss = 0.04737927939205826\n",
      "Epoch 111, batch 1, loss = 0.04729000411216265\n",
      "Epoch 112, batch 1, loss = 0.04720291111735974\n",
      "Epoch 113, batch 1, loss = 0.04711794270372041\n",
      "Epoch 114, batch 1, loss = 0.04703504277692022\n",
      "Epoch 115, batch 1, loss = 0.04695415680399085\n",
      "Epoch 116, batch 1, loss = 0.04687523176665437\n",
      "Epoch 117, batch 1, loss = 0.04679821611618262\n",
      "Epoch 118, batch 1, loss = 0.04672305972972678\n",
      "Epoch 119, batch 1, loss = 0.04664971386806367\n",
      "Epoch 120, batch 1, loss = 0.0465781311347087\n",
      "Epoch 121, batch 1, loss = 0.04650826543634565\n",
      "Epoch 122, batch 1, loss = 0.04644007194452743\n",
      "Epoch 123, batch 1, loss = 0.04637350705860188\n",
      "Epoch 124, batch 1, loss = 0.046308528369819996\n",
      "Epoch 125, batch 1, loss = 0.04624509462658458\n",
      "Epoch 126, batch 1, loss = 0.046183165700799576\n",
      "Epoch 127, batch 1, loss = 0.04612270255528177\n",
      "Epoch 128, batch 1, loss = 0.04606366721219756\n",
      "Epoch 129, batch 1, loss = 0.04600602272248981\n",
      "Epoch 130, batch 1, loss = 0.04594973313626023\n",
      "Epoch 131, batch 1, loss = 0.04589476347407466\n",
      "Epoch 132, batch 1, loss = 0.04584107969915963\n",
      "Epoch 133, batch 1, loss = 0.045788648690459795\n",
      "Epoch 134, batch 1, loss = 0.04573743821652711\n",
      "Epoch 135, batch 1, loss = 0.04568741691021325\n",
      "Epoch 136, batch 1, loss = 0.0456385542441388\n",
      "Epoch 137, batch 1, loss = 0.045590820506912384\n",
      "Epoch 138, batch 1, loss = 0.04554418678007537\n",
      "Epoch 139, batch 1, loss = 0.04549862491574727\n",
      "Epoch 140, batch 1, loss = 0.04545410751494905\n",
      "Epoch 141, batch 1, loss = 0.045410607906581704\n",
      "Epoch 142, batch 1, loss = 0.04536810012703844\n",
      "Epoch 143, batch 1, loss = 0.04532655890042962\n",
      "Epoch 144, batch 1, loss = 0.045285959619400615\n",
      "Epoch 145, batch 1, loss = 0.045246278326522796\n",
      "Epoch 146, batch 1, loss = 0.045207491696239485\n",
      "Epoch 147, batch 1, loss = 0.045169577017348375\n",
      "Epoch 148, batch 1, loss = 0.045132512176003545\n",
      "Epoch 149, batch 1, loss = 0.045096275639219856\n",
      "Epoch 150, batch 1, loss = 0.045060846438864086\n",
      "Epoch 151, batch 1, loss = 0.04502620415611676\n",
      "Epoch 152, batch 1, loss = 0.04499232890639002\n",
      "Epoch 153, batch 1, loss = 0.044959201324686754\n",
      "Epoch 154, batch 1, loss = 0.044926802551387174\n",
      "Epoch 155, batch 1, loss = 0.04489511421844928\n",
      "Epoch 156, batch 1, loss = 0.044864118436010125\n",
      "Epoch 157, batch 1, loss = 0.044833797779375364\n",
      "Epoch 158, batch 1, loss = 0.04480413527638485\n",
      "Epoch 159, batch 1, loss = 0.04477511439514257\n",
      "Epoch 160, batch 1, loss = 0.044746719032099674\n",
      "Epoch 161, batch 1, loss = 0.044718933500479445\n",
      "Epoch 162, batch 1, loss = 0.044691742519033795\n",
      "Epoch 163, batch 1, loss = 0.044665131201121026\n",
      "Epoch 164, batch 1, loss = 0.04463908504409487\n",
      "Epoch 165, batch 1, loss = 0.0446135899189954\n",
      "Epoch 166, batch 1, loss = 0.04458863206053255\n",
      "Epoch 167, batch 1, loss = 0.04456419805735319\n",
      "Epoch 168, batch 1, loss = 0.044540274842583334\n",
      "Epoch 169, batch 1, loss = 0.04451684968463697\n",
      "Epoch 170, batch 1, loss = 0.04449391017828354\n",
      "Epoch 171, batch 1, loss = 0.04447144423596626\n",
      "Epoch 172, batch 1, loss = 0.04444944007936367\n",
      "Epoch 173, batch 1, loss = 0.044427886231187194\n",
      "Epoch 174, batch 1, loss = 0.04440677150720762\n",
      "Epoch 175, batch 1, loss = 0.04438608500850369\n",
      "Epoch 176, batch 1, loss = 0.044365816113926065\n",
      "Epoch 177, batch 1, loss = 0.04434595447277051\n",
      "Epoch 178, batch 1, loss = 0.0443264899976539\n",
      "Epoch 179, batch 1, loss = 0.04430741285758705\n",
      "Epoch 180, batch 1, loss = 0.04428871347123877\n",
      "Epoch 181, batch 1, loss = 0.04427038250038536\n",
      "Epoch 182, batch 1, loss = 0.04425241084354008\n",
      "Epoch 183, batch 1, loss = 0.044234789629757416\n",
      "Epoch 184, batch 1, loss = 0.04421751021260713\n",
      "Epoch 185, batch 1, loss = 0.04420056416431287\n",
      "Epoch 186, batch 1, loss = 0.04418394327005086\n",
      "Epoch 187, batch 1, loss = 0.044167639522403934\n",
      "Epoch 188, batch 1, loss = 0.04415164511596617\n",
      "Epoch 189, batch 1, loss = 0.04413595244209436\n",
      "Epoch 190, batch 1, loss = 0.04412055408380141\n",
      "Epoch 191, batch 1, loss = 0.04410544281078817\n",
      "Epoch 192, batch 1, loss = 0.044090611574609265\n",
      "Epoch 193, batch 1, loss = 0.04407605350396958\n",
      "Epoch 194, batch 1, loss = 0.0440617619001471\n",
      "Epoch 195, batch 1, loss = 0.044047730232539106\n",
      "Epoch 196, batch 1, loss = 0.04403395213432772\n",
      "Epoch 197, batch 1, loss = 0.04402042139826176\n",
      "Epoch 198, batch 1, loss = 0.044007131972551475\n",
      "Epoch 199, batch 1, loss = 0.04399407795687284\n",
      "Epoch 200, batch 1, loss = 0.04398125359847878\n"
     ]
    }
   ],
   "source": [
    "# we use full-batch train\n",
    "W_list, K_list, train_loss, val_loss  = train(X_train, y_train, W, K, lr, num_epochs=200, batch_size=50, print_loss=True)"
   ]
  },
  {
   "cell_type": "code",
   "execution_count": 78,
   "id": "d1a3c513",
   "metadata": {},
   "outputs": [
    {
     "data": {
      "image/png": "[encoded data removed]",
      "text/plain": [
       "<Figure size 600x300 with 2 Axes>"
      ]
     },
     "metadata": {},
     "output_type": "display_data"
    }
   ],
   "source": [
    "fig = plt.figure(figsize=[6, 3])\n",
    "ax1 = fig.add_subplot(1, 2, 1)\n",
    "ax1.plot(train_loss)\n",
    "ax1.grid()\n",
    "ax1.set_ylabel('Train loss')\n",
    "ax1.set_xlabel('Epoch')\n",
    "\n",
    "ax2 = fig.add_subplot(1, 2, 2)\n",
    "ax2.plot(val_loss)\n",
    "ax2.grid()\n",
    "ax2.set_ylabel('Validation loss')\n",
    "ax2.set_xlabel('Epoch')\n",
    "\n",
    "plt.tight_layout()"
   ]
  },
  {
   "cell_type": "code",
   "execution_count": 79,
   "id": "7130e130",
   "metadata": {},
   "outputs": [
    {
     "data": {
      "text/plain": [
       "array([0.17827485, 0.46037422, 0.37205056, 0.22388157, 0.37520937,\n",
       "       0.35721768, 0.0303995 , 0.32581148, 0.33090312, 0.42519601,\n",
       "       0.21037785, 0.25055754, 0.25308618, 0.14419037, 0.07499758])"
      ]
     },
     "execution_count": 79,
     "metadata": {},
     "output_type": "execute_result"
    }
   ],
   "source": [
    "# make prediction\n",
    "_,_,y_pred = DNNforward(X_val, W_list[-1], K_list[-1])\n",
    "y_pred"
   ]
  },
  {
   "cell_type": "code",
   "execution_count": 80,
   "id": "2c17d79e",
   "metadata": {},
   "outputs": [
    {
     "data": {
      "text/plain": [
       "<matplotlib.legend.Legend at 0x7f8b2bbd7c70>"
      ]
     },
     "execution_count": 80,
     "metadata": {},
     "output_type": "execute_result"
    },
    {
     "data": {
      "image/png": "[encoded data removed]",
      "text/plain": [
       "<Figure size 640x480 with 1 Axes>"
      ]
     },
     "metadata": {},
     "output_type": "display_data"
    }
   ],
   "source": [
    "plt.plot(y_val*(OD_BART.max() - OD_BART.min()) + OD_BART.min(), '.-', linewidth=0.2, markersize=15, label='Truth')\n",
    "plt.plot(y_pred*(OD_BART.max() - OD_BART.min()) + OD_BART.min(), '.-', linewidth=0.2, markersize=15, label='Prediction')\n",
    "plt.xlabel(\"Station ID\")\n",
    "plt.ylabel(\"Annual ridership for Each Station\")\n",
    "plt.legend()"
   ]
  },
  {
   "cell_type": "markdown",
   "id": "c045d4be",
   "metadata": {},
   "source": [
    "## The results seem to be bad, how to improve?"
   ]
  }
 ],
 "metadata": {
  "kernelspec": {
   "display_name": "Python 3 (ipykernel)",
   "language": "python",
   "name": "python3"
  },
  "language_info": {
   "codemirror_mode": {
    "name": "ipython",
    "version": 3
   },
   "file_extension": ".py",
   "mimetype": "text/x-python",
   "name": "python",
   "nbconvert_exporter": "python",
   "pygments_lexer": "ipython3",
   "version": "3.8.11"
  }
 },
 "nbformat": 4,
 "nbformat_minor": 5
}
