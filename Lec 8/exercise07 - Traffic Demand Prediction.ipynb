{
 "cells": [
  {
   "cell_type": "markdown",
   "metadata": {},
   "source": [
    "# Exercise 07 Traffic Demand Prediction\n",
    "\n",
    "In this exercise, you need to follow the requirements of each question to generate the Python code, and the following example is for reference：\n",
    "\n",
    "- Sample Question: Write a program that takes the user's name as input and prints \"Hello, [name]!\" where [name] is the user's input.\n",
    "\n",
    "- Potential Answer:\n",
    "\n",
    "```python\n",
    "    name = input(\"Enter your name: \")\n",
    "    print(\"Hello, \" + name + \"!\")\n",
    "```\n",
    "- If you enter 'David', the code will output 'Hello, David!', and this will satisfy the requirements.\n",
    "\n",
    "## Attention\n",
    "- Generally, there will be multiple answers for one question and you don't have to strictly follow the instructions in the tutorial, as long as you can make the output of the code meet the requirements of the question.\n",
    "- If possible, strive to make your code concise and avoid excessive reliance on less commonly used libraries.\n",
    "- You may need to search for information on the Internet to complete the excercise."
   ]
  },
  {
   "cell_type": "markdown",
   "metadata": {},
   "source": [
    "### Question 01: A NumPy dataset file named \"processed_demand_datasetsMAN.npz\" contains training set (trainX and trainy), validation set (valX and valy), and test set (testX and testy). Load the training set and display its shape.\n",
    "\n",
    "### Write your answer in the following code frame:"
   ]
  },
  {
   "cell_type": "code",
   "execution_count": 1,
   "metadata": {},
   "outputs": [
    {
     "name": "stdout",
     "output_type": "stream",
     "text": [
      "The dimensions of training dataset: (63, 886, 42)\n"
     ]
    }
   ],
   "source": [
    "import pandas as pd  \n",
    "import numpy as np\n",
    "\n",
    "datasets = np.load('./processed_demand_datasetsMAN.npz')\n",
    "X_train, X_val, X_test, y_train, y_val, y_test = datasets['trainX'], datasets['valX'], datasets['testX'], datasets['trainy'], datasets['valy'], datasets['testy']\n",
    "\n",
    "print('The dimensions of training dataset:',X_train.shape)"
   ]
  },
  {
   "cell_type": "markdown",
   "metadata": {},
   "source": [
    "### Question 02: Define a function named `mean_absolute_percentage_error` used to calculate Mean Absolute Percentage Error (MAPE), then based on `mean_absolute_percentage_error`, define another function `compute_metric`, which is used to calculate evaluation metrics for a machine learning model's predictions using numpy. The evaluation metrics include Mean Absolute Error (MAE), Root Mean Squared Error (RMSE), and Mean Absolute Percentage Error (MAPE).\n",
    "\n",
    "### Write your answer in the following code frame:"
   ]
  },
  {
   "cell_type": "code",
   "execution_count": 10,
   "metadata": {},
   "outputs": [],
   "source": [
    "import numpy as np\n",
    "from sklearn.metrics import mean_squared_error, mean_absolute_error\n",
    "\n",
    "def mean_absolute_percentage_error(y_true, y_pred): \n",
    "    y_true, y_pred = np.array(y_true), np.array(y_pred)\n",
    "    return np.mean(np.abs((y_true - y_pred) / y_true)) * 100\n",
    "\n",
    "def compute_metric(y_true, y_pred):\n",
    "    mae = mean_absolute_error(y_true, y_pred)\n",
    "    rmse = np.sqrt(mean_squared_error(y_true, y_pred))\n",
    "    mape = mean_absolute_percentage_error(y_true[np.where(y_true > 5)[0]], y_pred[np.where(y_true > 5)[0]])\n",
    "    return mae, rmse, mape"
   ]
  },
  {
   "cell_type": "markdown",
   "metadata": {},
   "source": [
    "### Question 03: Fit the traffic demand data using a GradientBoostingRegressor on the training set. Make predictions using the test set and calculate the MAE, RMSE, and MAPE of the predictions. Output these metrics.\n",
    "\n",
    "### Write your answer in the following code frame:"
   ]
  },
  {
   "cell_type": "code",
   "execution_count": 12,
   "metadata": {},
   "outputs": [
    {
     "name": "stdout",
     "output_type": "stream",
     "text": [
      "Test MAE: 2.224, RMSE: 4.432, MAPE: 22.182\n"
     ]
    }
   ],
   "source": [
    "from sklearn.ensemble import GradientBoostingRegressor\n",
    "# Fit the GradientBoostingRegressor\n",
    "gbdt = GradientBoostingRegressor(random_state=666)\n",
    "gbdt.fit(X_train.reshape(-1, 42), y_train.reshape(-1))\n",
    "\n",
    "# Predict using the test set\n",
    "pred = gbdt.predict(X_test.reshape(-1, 42))\n",
    "\n",
    "# Calculate metrics\n",
    "mae, rmse, mape = compute_metric(y_test.reshape(-1), pred)\n",
    "print(f'Test MAE: {mae:.3f}, RMSE: {rmse:.3f}, MAPE: {mape:.3f}')"
   ]
  },
  {
   "cell_type": "markdown",
   "metadata": {},
   "source": [
    "### Question 04:  Fit the traffic demand data using RandomForestRegressor and MLPRegressor. Make predictions using the test set for each model and calculate the MAE, RMSE, and MAPE. Organize these metrics into a Pandas DataFrame and display it.\n",
    "\n",
    "### Write your answer in the following code frame:"
   ]
  },
  {
   "cell_type": "code",
   "execution_count": 18,
   "metadata": {},
   "outputs": [
    {
     "name": "stdout",
     "output_type": "stream",
     "text": [
      "           Model       MAE      RMSE       MAPE\n",
      "0  Random Forest  2.163492  4.382477  21.648005\n",
      "1            MLP  2.272669  4.587214  23.019059\n"
     ]
    }
   ],
   "source": [
    "from sklearn.ensemble import RandomForestRegressor\n",
    "from sklearn.neural_network import MLPRegressor\n",
    "# Fit models and calculate metrics\n",
    "\n",
    "rf = RandomForestRegressor(random_state=666)\n",
    "mlp = MLPRegressor(random_state=200, max_iter=400)\n",
    "\n",
    "rf.fit(X_train.reshape(-1, 42), y_train.reshape(-1))\n",
    "mlp.fit(X_train.reshape(-1, 42), y_train.reshape(-1))\n",
    "\n",
    "models = [rf, mlp]\n",
    "model_names = ['Random Forest', 'MLP']\n",
    "results = []\n",
    "\n",
    "for model, name in zip(models, model_names):\n",
    "    pred = model.predict(X_test.reshape(-1, 42))\n",
    "    mae, rmse, mape = compute_metric(y_test.reshape(-1), pred)\n",
    "    results.append({'Model': name, 'MAE': mae, 'RMSE': rmse, 'MAPE': mape})\n",
    "\n",
    "# Create a Pandas DataFrame\n",
    "results_df = pd.DataFrame(results)\n",
    "\n",
    "# Display the DataFrame\n",
    "print(results_df)"
   ]
  },
  {
   "cell_type": "markdown",
   "metadata": {},
   "source": [
    "### Question 05: A NumPy file named \"edges_GAman.npy\" contains edge information of a road network. Load the file and display the number of edges.\n",
    "\n",
    "### Write your answer in the following code frame:\n"
   ]
  },
  {
   "cell_type": "code",
   "execution_count": 14,
   "metadata": {},
   "outputs": [
    {
     "name": "stdout",
     "output_type": "stream",
     "text": [
      "Number of edges: 325\n"
     ]
    }
   ],
   "source": [
    "# Load the edges\n",
    "edges = np.load('./edges_GAman.npy')\n",
    "\n",
    "# Calculate and display the number of edges\n",
    "num_edges = len(edges)\n",
    "print(f'Number of edges: {num_edges}')"
   ]
  }
 ],
 "metadata": {
  "kernelspec": {
   "display_name": "Python 3 (ipykernel)",
   "language": "python",
   "name": "python3"
  },
  "language_info": {
   "codemirror_mode": {
    "name": "ipython",
    "version": 3
   },
   "file_extension": ".py",
   "mimetype": "text/x-python",
   "name": "python",
   "nbconvert_exporter": "python",
   "pygments_lexer": "ipython3",
   "version": "3.8.11"
  }
 },
 "nbformat": 4,
 "nbformat_minor": 2
}
