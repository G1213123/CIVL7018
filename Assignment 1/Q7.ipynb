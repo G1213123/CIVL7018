{
 "cells": [
  {
   "cell_type": "markdown",
   "metadata": {},
   "source": [
    "# 7.1\n",
    "the depth d tree contain d+1 layers of node with layer 0 as the initial status with only one root node.\n",
    "\n",
    "for the progression of next layer, each node of the preceding layer may assessed and if not meeting a predefined criterion, split into two new nodes\n",
    "\n",
    "Suppose in the Layer $L_d$ at depth $d$ there are $n_d = g(d)$ nodes , the next layer $L_{d+1}$ will have at most $2n$ nodes assuming  every decision node in $L_d$ is being split.\n",
    "\n",
    "therefore at the decision tree with most nodes at $L_d$\n",
    "$$\n",
    "n_d = \\sum_{d=0}^{i=d}{g(i)} = g(d) + \\sum_{d=0}^{i=d-1}{g(i)}\n",
    "$$\n",
    "\n",
    "iterate this recurrsively and at $d=0$, we have the root node only hence $g(0) = 1$, we have\n",
    "$$\n",
    "n_d = g(0) + g(1) + ... + g(d)\n",
    "$$\n",
    "$$\n",
    "= g(0) + 2g(0) + ... + 2^dg(0)\n",
    "$$\n",
    "$$\n",
    "= \\sum_{d=0}^{i=d}{2^i}\n",
    "$$\n",
    "Using the power sum formula\n",
    "$$\n",
    "n_d = \\frac{2^{d+1}-1}{2-1} = 2^{d+1}-1\n",
    "$$"
   ]
  },
  {
   "cell_type": "markdown",
   "metadata": {},
   "source": [
    "# 7.2\n",
    "for the layer $L_d$ at depth $d$ having the lower bound $m$ nodes,\n",
    "\n",
    "the layer will have its maximum node number greater than $m$,\n",
    "\n",
    "$$\n",
    "n_{d-1} = 2^{d+1} - 1 > m\n",
    "$$\n",
    "$$\n",
    "2^{d+1} > m+1\n",
    "$$\n",
    "Taking log on both sides and rearrange the equation\n",
    "$$\n",
    "d > \\log_2(m+1)- 1\n",
    "$$"
   ]
  },
  {
   "cell_type": "markdown",
   "metadata": {},
   "source": [
    "# 7.3\n",
    "Consider a tree which at each level, there is only one node being bifurcated, and there is one node being bifurcated contains only one element.\n",
    "Doing so will eliminate the least element out from its mother node, and the remaining root will have the most element for further proceeding of depth.\n",
    "Since for each level, the node with max number of element is 1 element less than the previous depth,\n",
    "it take m-1 depth to deplet all nodes with more than 1 element into node with 1 element.\n",
    "Hence the max depth for m samples is d+1.\n",
    "\n",
    "For the lowest depth possible of a tree, each depth processed will double the node number as in the previous depth.\n",
    "At depth of d, there will be at most $2^d$ nodes.\n",
    "Thus for a sample size of m, it will require at least $m\\leq2^d$ depth for all samples to be isolated in its own node.\n",
    "\n",
    "In short, the range of d for sample size of m will be in range:\n",
    "$$\n",
    "log_2(m) \\leq d \\leq m-1\n",
    "$$"
   ]
  }
 ],
 "metadata": {
  "kernelspec": {
   "display_name": "Python 3 (ipykernel)",
   "language": "python",
   "name": "python3"
  },
  "language_info": {
   "codemirror_mode": {
    "name": "ipython",
    "version": 3
   },
   "file_extension": ".py",
   "mimetype": "text/x-python",
   "name": "python",
   "nbconvert_exporter": "python",
   "pygments_lexer": "ipython3",
   "version": "3.11.5"
  }
 },
 "nbformat": 4,
 "nbformat_minor": 2
}
