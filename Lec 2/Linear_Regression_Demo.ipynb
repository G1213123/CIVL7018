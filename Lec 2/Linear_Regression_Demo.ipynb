{
 "cells": [
  {
   "cell_type": "markdown",
   "id": "dfc3fbd0",
   "metadata": {},
   "source": [
    "# Multivariable Linear Regression Using Formulation"
   ]
  },
  {
   "cell_type": "code",
   "execution_count": 1,
   "id": "5b1416b9",
   "metadata": {},
   "outputs": [],
   "source": [
    "import numpy as np"
   ]
  },
  {
   "cell_type": "code",
   "execution_count": 2,
   "id": "6dd089e3",
   "metadata": {},
   "outputs": [],
   "source": [
    "# define the data\n",
    "X = np.array([[1, 1, 2, 3], [1, 2, 3, 5], [1, 4, 3, -1], [1, 8, 6, 4]])\n",
    "y = np.array([4, 8, 5, 10]).reshape(-1, 1)"
   ]
  },
  {
   "cell_type": "code",
   "execution_count": 3,
   "id": "a0f827a2",
   "metadata": {},
   "outputs": [],
   "source": [
    "w = np.linalg.inv(X.T@X)@X.T @ y"
   ]
  },
  {
   "cell_type": "code",
   "execution_count": 4,
   "id": "d2b9b78b",
   "metadata": {},
   "outputs": [
    {
     "name": "stdout",
     "output_type": "stream",
     "text": [
      "w1~n is [-9.75 19.25 -2.75]\n",
      "w0 is [-16.5]\n"
     ]
    }
   ],
   "source": [
    "print('w1~n is', w[1:].flatten())\n",
    "print('w0 is', w[0])"
   ]
  },
  {
   "cell_type": "markdown",
   "id": "c93ba82d",
   "metadata": {},
   "source": [
    "# Multivariable Linear Regression Using Scikit-learn"
   ]
  },
  {
   "cell_type": "code",
   "execution_count": 5,
   "id": "522e132d",
   "metadata": {},
   "outputs": [],
   "source": [
    "from sklearn.linear_model import LinearRegression"
   ]
  },
  {
   "cell_type": "code",
   "execution_count": 6,
   "id": "10d8ce3f",
   "metadata": {},
   "outputs": [],
   "source": [
    "# define the data\n",
    "X = np.array([[1, 2, 3], [2, 3, 5], [4, 3, -1], [8, 6, 4]])\n",
    "y = np.array([4, 8, 5, 10])"
   ]
  },
  {
   "cell_type": "code",
   "execution_count": 7,
   "id": "695b28e7",
   "metadata": {
    "scrolled": true
   },
   "outputs": [
    {
     "name": "stdout",
     "output_type": "stream",
     "text": [
      "w1 is [-9.75 19.25 -2.75]\n",
      "w0 is -16.49999999999995\n"
     ]
    }
   ],
   "source": [
    "reg = LinearRegression().fit(X, y)\n",
    "\n",
    "print('w1 is', reg.coef_)\n",
    "print('w0 is', reg.intercept_)"
   ]
  },
  {
   "cell_type": "markdown",
   "id": "0c8982b8",
   "metadata": {},
   "source": [
    "# Polynomial Regression Using Scikit-learn"
   ]
  },
  {
   "cell_type": "code",
   "execution_count": 8,
   "id": "981f5263",
   "metadata": {},
   "outputs": [],
   "source": [
    "import matplotlib.pyplot as plt\n",
    "import pandas as pd"
   ]
  },
  {
   "cell_type": "code",
   "execution_count": 9,
   "id": "681ae6da",
   "metadata": {},
   "outputs": [],
   "source": [
    "# load the data\n",
    "FD_data = pd.read_csv('FD_data.csv')\n",
    "# show the data\n",
    "FD_data.head()\n",
    "\n",
    "# k and q are in the shape: [n_samples, n_features]\n",
    "k = FD_data['k'].to_numpy().reshape(-1, 1)\n",
    "q = FD_data['q'].to_numpy().reshape(-1, 1)\n"
   ]
  },
  {
   "cell_type": "code",
   "execution_count": 10,
   "id": "6b040675",
   "metadata": {},
   "outputs": [
    {
     "data": {
      "image/png": "[encoded data removed]",
      "text/plain": [
       "<Figure size 432x288 with 1 Axes>"
      ]
     },
     "metadata": {
      "needs_background": "light"
     },
     "output_type": "display_data"
    }
   ],
   "source": [
    "plt.plot(k, q, '.')\n",
    "plt.xlabel('Density (veh/km)')\n",
    "plt.ylabel('Flow (veh/hour)')\n",
    "plt.grid()"
   ]
  },
  {
   "cell_type": "code",
   "execution_count": 11,
   "id": "4f85d9c5",
   "metadata": {},
   "outputs": [],
   "source": [
    "from sklearn.preprocessing import PolynomialFeatures"
   ]
  },
  {
   "cell_type": "code",
   "execution_count": 12,
   "id": "0c9a3b4e",
   "metadata": {},
   "outputs": [],
   "source": [
    "poly = PolynomialFeatures(degree=2, include_bias=False)\n",
    "poly_features = poly.fit_transform(k)"
   ]
  },
  {
   "cell_type": "code",
   "execution_count": 13,
   "id": "fea19ba2",
   "metadata": {},
   "outputs": [],
   "source": [
    "from sklearn.linear_model import LinearRegression"
   ]
  },
  {
   "cell_type": "code",
   "execution_count": 14,
   "id": "ed912192",
   "metadata": {},
   "outputs": [],
   "source": [
    "# we do this because polynomial regression is linear\n",
    "poly_reg_model = LinearRegression()\n",
    "poly_reg_model.fit(poly_features, q)\n",
    "# predicted from fitted model\n",
    "y_predicted = poly_reg_model.predict(poly_features)\n",
    "FD_data['Fitted'] = y_predicted"
   ]
  },
  {
   "cell_type": "code",
   "execution_count": 15,
   "id": "4c338066",
   "metadata": {
    "scrolled": true
   },
   "outputs": [
    {
     "data": {
      "image/png": "[encoded data removed]",
      "text/plain": [
       "<Figure size 432x288 with 1 Axes>"
      ]
     },
     "metadata": {
      "needs_background": "light"
     },
     "output_type": "display_data"
    }
   ],
   "source": [
    "FD_data = FD_data.sort_values(by='k')\n",
    "## plot the predicted data\n",
    "plt.plot(FD_data['k'], FD_data['Fitted'], 'r.-', label='Fitted curve')\n",
    "plt.plot(FD_data['k'], FD_data['q'], '.', label='Data')\n",
    "plt.legend(loc=0)\n",
    "plt.xlabel('Density (veh/km)')\n",
    "plt.ylabel('Flow (veh/hour)')\n",
    "plt.title('q = %.2f + %.2f*k %.2f*k^2'%(\n",
    "    poly_reg_model.intercept_[0], poly_reg_model.coef_[0, 0], poly_reg_model.coef_[0, 1]\n",
    "))\n",
    "plt.grid()"
   ]
  },
  {
   "cell_type": "markdown",
   "id": "cc05f742",
   "metadata": {},
   "source": [
    "# Ridge regression"
   ]
  },
  {
   "cell_type": "code",
   "execution_count": 16,
   "id": "b901c7dc",
   "metadata": {},
   "outputs": [],
   "source": [
    "from sklearn import linear_model\n",
    "from sklearn.preprocessing import minmax_scale"
   ]
  },
  {
   "cell_type": "code",
   "execution_count": 17,
   "id": "00b4518f",
   "metadata": {
    "scrolled": true
   },
   "outputs": [
    {
     "data": {
      "text/html": [
       "<div>\n",
       "<style scoped>\n",
       "    .dataframe tbody tr th:only-of-type {\n",
       "        vertical-align: middle;\n",
       "    }\n",
       "\n",
       "    .dataframe tbody tr th {\n",
       "        vertical-align: top;\n",
       "    }\n",
       "\n",
       "    .dataframe thead th {\n",
       "        text-align: right;\n",
       "    }\n",
       "</style>\n",
       "<table border=\"1\" class=\"dataframe\">\n",
       "  <thead>\n",
       "    <tr style=\"text-align: right;\">\n",
       "      <th></th>\n",
       "      <th>TotPop</th>\n",
       "      <th>AutoOwn0</th>\n",
       "      <th>TotEmp</th>\n",
       "      <th>Tot Rd Dens</th>\n",
       "    </tr>\n",
       "  </thead>\n",
       "  <tbody>\n",
       "    <tr>\n",
       "      <th>0</th>\n",
       "      <td>11084</td>\n",
       "      <td>1664</td>\n",
       "      <td>33120</td>\n",
       "      <td>42.232657</td>\n",
       "    </tr>\n",
       "    <tr>\n",
       "      <th>1</th>\n",
       "      <td>142973</td>\n",
       "      <td>20505</td>\n",
       "      <td>103479</td>\n",
       "      <td>32.296762</td>\n",
       "    </tr>\n",
       "    <tr>\n",
       "      <th>2</th>\n",
       "      <td>36177</td>\n",
       "      <td>4704</td>\n",
       "      <td>47570</td>\n",
       "      <td>31.822631</td>\n",
       "    </tr>\n",
       "    <tr>\n",
       "      <th>3</th>\n",
       "      <td>104191</td>\n",
       "      <td>8018</td>\n",
       "      <td>39663</td>\n",
       "      <td>32.894203</td>\n",
       "    </tr>\n",
       "    <tr>\n",
       "      <th>4</th>\n",
       "      <td>70630</td>\n",
       "      <td>1142</td>\n",
       "      <td>13924</td>\n",
       "      <td>20.531431</td>\n",
       "    </tr>\n",
       "  </tbody>\n",
       "</table>\n",
       "</div>"
      ],
      "text/plain": [
       "   TotPop  AutoOwn0  TotEmp  Tot Rd Dens\n",
       "0   11084      1664   33120    42.232657\n",
       "1  142973     20505  103479    32.296762\n",
       "2   36177      4704   47570    31.822631\n",
       "3  104191      8018   39663    32.894203\n",
       "4   70630      1142   13924    20.531431"
      ]
     },
     "execution_count": 17,
     "metadata": {},
     "output_type": "execute_result"
    }
   ],
   "source": [
    "# take the first 48 stations becasue the \n",
    "# last 2 stations were not yet opened\n",
    "# by the time this data was collected\n",
    "data_BART_sld = pd.read_csv('data_X.csv').iloc[:48, 1:]\n",
    "data_BART_sld.head()"
   ]
  },
  {
   "cell_type": "code",
   "execution_count": 18,
   "id": "d67bcbf1",
   "metadata": {
    "scrolled": true
   },
   "outputs": [],
   "source": [
    "# Embarcadero is the 18th station in the list\n",
    "OD_BART = np.load('3d_daily.npy').sum(axis=2)[17, :48]"
   ]
  },
  {
   "cell_type": "code",
   "execution_count": 19,
   "id": "0ff8272b",
   "metadata": {},
   "outputs": [
    {
     "name": "stdout",
     "output_type": "stream",
     "text": [
      "Shape of data_BART_sld (48, 4)\n",
      "Shape of OD_BART (48,)\n"
     ]
    }
   ],
   "source": [
    "print('Shape of data_BART_sld', data_BART_sld.shape)\n",
    "print('Shape of OD_BART', OD_BART.shape)"
   ]
  },
  {
   "cell_type": "code",
   "execution_count": 20,
   "id": "8af66d08",
   "metadata": {
    "scrolled": true
   },
   "outputs": [],
   "source": [
    "def get_w(alpha):\n",
    "    X = minmax_scale(data_BART_sld)\n",
    "    y = minmax_scale(OD_BART)\n",
    "\n",
    "    reg = linear_model.Ridge(alpha=alpha)\n",
    "    reg.fit(X, y)\n",
    "    \n",
    "    return reg.intercept_, reg.coef_[0], reg.coef_[1], reg.coef_[2], reg.coef_[3]"
   ]
  },
  {
   "cell_type": "code",
   "execution_count": 21,
   "id": "d7bee339",
   "metadata": {},
   "outputs": [],
   "source": [
    "intercept_set = []\n",
    "coef1_set = []\n",
    "coef2_set = []\n",
    "coef3_set = []\n",
    "coef4_set = []\n",
    "\n",
    "alpha_set = np.arange(0, 1.05, 0.05)\n",
    "for alpha in alpha_set:\n",
    "    intercept, coef1, coef2, coef3, coef4 = get_w(alpha)\n",
    "    intercept_set.append(intercept)\n",
    "    coef1_set.append(coef1)\n",
    "    coef2_set.append(coef2)\n",
    "    coef3_set.append(coef3)\n",
    "    coef4_set.append(coef4)\n",
    "    "
   ]
  },
  {
   "cell_type": "code",
   "execution_count": 22,
   "id": "912290cd",
   "metadata": {},
   "outputs": [
    {
     "data": {
      "text/plain": [
       "<matplotlib.legend.Legend at 0x7fef33795790>"
      ]
     },
     "execution_count": 22,
     "metadata": {},
     "output_type": "execute_result"
    },
    {
     "data": {
      "image/png": "[encoded data removed]",
      "text/plain": [
       "<Figure size 432x288 with 1 Axes>"
      ]
     },
     "metadata": {
      "needs_background": "light"
     },
     "output_type": "display_data"
    }
   ],
   "source": [
    "plt.plot(alpha_set, intercept_set, 'b.-', label='Intercept')\n",
    "plt.plot(alpha_set, coef1_set, 'r.-', label='Coef for TotPop')\n",
    "plt.plot(alpha_set, coef2_set, 'g.-', label='Coef for AutoOwn0')\n",
    "plt.plot(alpha_set, coef3_set, 'y.-', label='Coef for TotEmp')\n",
    "plt.plot(alpha_set, coef4_set, '.-', color='orange', label='Coef for Tot Rd Dens')\n",
    "plt.grid()\n",
    "plt.legend(bbox_to_anchor=(1, 1))"
   ]
  },
  {
   "cell_type": "code",
   "execution_count": null,
   "id": "aaafbf3b",
   "metadata": {},
   "outputs": [],
   "source": []
  },
  {
   "cell_type": "code",
   "execution_count": null,
   "id": "6b968321",
   "metadata": {},
   "outputs": [],
   "source": []
  },
  {
   "cell_type": "code",
   "execution_count": null,
   "id": "b8adcfaf",
   "metadata": {},
   "outputs": [],
   "source": []
  },
  {
   "cell_type": "markdown",
   "id": "bbe979b3",
   "metadata": {},
   "source": [
    "# LASSO regression"
   ]
  },
  {
   "cell_type": "code",
   "execution_count": 23,
   "id": "af84dd27",
   "metadata": {
    "scrolled": true
   },
   "outputs": [],
   "source": [
    "def get_w(alpha):\n",
    "    X = minmax_scale(data_BART_sld)\n",
    "    y = minmax_scale(OD_BART)\n",
    "\n",
    "    reg = linear_model.Lasso(alpha=alpha)\n",
    "    reg.fit(X, y)\n",
    "    \n",
    "    return reg.intercept_, reg.coef_[0], reg.coef_[1], reg.coef_[2], reg.coef_[3]"
   ]
  },
  {
   "cell_type": "code",
   "execution_count": 24,
   "id": "ef6497c5",
   "metadata": {},
   "outputs": [
    {
     "name": "stderr",
     "output_type": "stream",
     "text": [
      "/var/folders/6v/_k68w5jd2fjdr7stnfl1_q_c0000gn/T/ipykernel_58575/1736399961.py:6: UserWarning: With alpha=0, this algorithm does not converge well. You are advised to use the LinearRegression estimator\n",
      "  reg.fit(X, y)\n",
      "/opt/anaconda3/lib/python3.9/site-packages/sklearn/linear_model/_coordinate_descent.py:530: UserWarning: Coordinate descent with no regularization may lead to unexpected results and is discouraged.\n",
      "  model = cd_fast.enet_coordinate_descent(\n",
      "/opt/anaconda3/lib/python3.9/site-packages/sklearn/linear_model/_coordinate_descent.py:530: ConvergenceWarning: Objective did not converge. You might want to increase the number of iterations. Duality gap: 1.0554018784683326, tolerance: 0.0002442949254712368\n",
      "  model = cd_fast.enet_coordinate_descent(\n"
     ]
    }
   ],
   "source": [
    "intercept_set = []\n",
    "coef1_set = []\n",
    "coef2_set = []\n",
    "coef3_set = []\n",
    "coef4_set = []\n",
    "\n",
    "alpha_set = np.arange(0, 0.05, 0.001)\n",
    "for alpha in alpha_set:\n",
    "    intercept, coef1, coef2, coef3, coef4 = get_w(alpha)\n",
    "    intercept_set.append(intercept)\n",
    "    coef1_set.append(coef1)\n",
    "    coef2_set.append(coef2)\n",
    "    coef3_set.append(coef3)\n",
    "    coef4_set.append(coef4)\n",
    "    "
   ]
  },
  {
   "cell_type": "code",
   "execution_count": 25,
   "id": "182d79c4",
   "metadata": {},
   "outputs": [
    {
     "data": {
      "text/plain": [
       "<matplotlib.legend.Legend at 0x7fef405f6e20>"
      ]
     },
     "execution_count": 25,
     "metadata": {},
     "output_type": "execute_result"
    },
    {
     "data": {
      "image/png": "[encoded data removed]",
      "text/plain": [
       "<Figure size 432x288 with 1 Axes>"
      ]
     },
     "metadata": {
      "needs_background": "light"
     },
     "output_type": "display_data"
    }
   ],
   "source": [
    "plt.plot(alpha_set, intercept_set, 'b.-', label='Intercept')\n",
    "plt.plot(alpha_set, coef1_set, 'r.-', label='Coef for TotPop')\n",
    "plt.plot(alpha_set, coef2_set, 'g.-', label='Coef for AutoOwn0')\n",
    "plt.plot(alpha_set, coef3_set, 'y.-', label='Coef for TotEmp')\n",
    "plt.plot(alpha_set, coef4_set, '.-', color='orange', label='Coef for Tot Rd Dens')\n",
    "plt.grid()\n",
    "plt.legend(bbox_to_anchor=(1, 1))"
   ]
  },
  {
   "cell_type": "code",
   "execution_count": null,
   "id": "d8cbc22d",
   "metadata": {},
   "outputs": [],
   "source": []
  }
 ],
 "metadata": {
  "kernelspec": {
   "display_name": "Python 3 (ipykernel)",
   "language": "python",
   "name": "python3"
  },
  "language_info": {
   "codemirror_mode": {
    "name": "ipython",
    "version": 3
   },
   "file_extension": ".py",
   "mimetype": "text/x-python",
   "name": "python",
   "nbconvert_exporter": "python",
   "pygments_lexer": "ipython3",
   "version": "3.9.7"
  }
 },
 "nbformat": 4,
 "nbformat_minor": 5
}
