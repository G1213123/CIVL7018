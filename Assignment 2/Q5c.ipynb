{
 "cells": [
  {
   "cell_type": "code",
   "execution_count": null,
   "metadata": {
    "vscode": {
     "languageId": "plaintext"
    }
   },
   "outputs": [],
   "source": []
  },
  {
   "cell_type": "markdown",
   "metadata": {},
   "source": [
    "c)\n",
    "\n",
    "$$\n",
    "X = \\begin{bmatrix}\n",
    "x & y & z\n",
    "\\end{bmatrix}\n",
    "=\n",
    "\\begin{bmatrix}\n",
    "-1 & -1 & 2 \\\\\n",
    "-2 & 1 & 1\n",
    "\\end{bmatrix}\n",
    "$$\n",
    "\n",
    "$$\n",
    "\\mu_x = \\frac{\\sum_{n}{x_n}}{n} = \\frac{-1-2}{2} = -1.5\n",
    "$$\n",
    "\n",
    "$$\n",
    "\\mu_y = \\frac{\\sum_{n}{x_n}}{n} = \\frac{-1+1}{2} = 0\n",
    "$$\n",
    "\n",
    "$$\n",
    "\\mu_z = \\frac{\\sum_{n}{x_n}}{n} = \\frac{2+1}{2} = 1.5\n",
    "$$\n",
    "\n",
    "Calculate the Covariance\n",
    "$$\n",
    "\\sum = \\frac{1}{N} \\sum_{n}{(x_n-\\mu)(x_n-\\mu)^T}\n",
    "$$\n",
    "\n",
    "$$\n",
    "= \\begin{bmatrix}\n",
    "var(x) & cov(x,y) & cov(x,z) \\\\\n",
    "cov(y,x) & var(y) & cov(y,z) \\\\\n",
    "cov(z,x) & cov(z,y) & var(z) \\\\\n",
    "\\end{bmatrix}\n",
    "$$\n",
    "\n",
    "$$\n",
    "=  \\begin{bmatrix}\n",
    "\\frac{(-1+1.5)^2+(-2+1.5)^2}{2} & \\frac{(-1+1.5)(-1-0)+(-2+1.5)(1-0)}{2} & \\frac{(-1+1.5)(2-1.5)+(-2+1.5)(1-1.5)}{2} \\\\\n",
    "\\frac{(-1-0)(-1-1.5)+(1-0)(-2-1.5)}{2} & \\frac{(-1-0)^2+(1-0)^2}{2} & \\frac{(-1-0)(2-1.5)+(1-0)(1-1.5)}{2} \\\\\n",
    "\\frac{(2-1.5)(-1+1.5)+(1-1.5)(-2+1.5)}{2} & \\frac{(2-1.5)(-1-0)+(1-1.5)(1-0)}{2} & \\frac{(2-1.5)^2+(1-1.5)^2}{2} \\\\\n",
    "\\end{bmatrix}\n",
    "$$\n",
    "\n",
    "$$\n",
    "= \\begin{bmatrix}\n",
    "0.25 & -0.5 & 0.25\\\\\n",
    "-0.25 & 1 & -0.25\\\\\n",
    "0.25 & -0.5 & 0.25\\\\\n",
    "\\end{bmatrix}\n",
    "$$"
   ]
  }
 ],
 "metadata": {
  "language_info": {
   "name": "python"
  }
 },
 "nbformat": 4,
 "nbformat_minor": 2
}
