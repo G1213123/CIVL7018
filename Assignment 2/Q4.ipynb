{
 "cells": [
  {
   "cell_type": "markdown",
   "metadata": {},
   "source": [
    "p1: (0,0), \n",
    "\n",
    "p2: (1,2),\n",
    "\n",
    "p3: [2,0),\n",
    "\n",
    "p4: [8,8),\n",
    "\n",
    "p5: [9,9),\n",
    "\n",
    "p6: [10,8)\n",
    "\n",
    "choose two initial centroid $\\mu_1:(1,1)$ and $\\mu_2:(9,9)$\n",
    "\n",
    "## Iteration 1\n",
    "\n",
    "computer the distance of poinst to the centrol\n",
    "\n",
    "|   | $C_1$|$C_2$|$k$|\n",
    "|---|---|---|---|\n",
    "|p1|$\\sqrt{(0-1)^2 + (0-1)^2} = 1.41$|$\\sqrt{(0-9)^2 + (0-9)^2} = 12.7$|$C_1$|\n",
    "|p2|$\\sqrt{(1-1)^2 + (2-1)^2} = 1.00$|$\\sqrt{(1-9)^2 + (2-9)^2} = 10.6$|$C_1$|\n",
    "|p3|$\\sqrt{(2-1)^2 + (0-1)^2} = 1.41$|$\\sqrt{(2-9)^2 + (0-9)^2} = 11.4$|$C_1$|\n",
    "|p4|$\\sqrt{(8-1)^2 + (8-1)^2} = 9.90$|$\\sqrt{(8-9)^2 + (8-9)^2} = 1.41$|$C_2$|\n",
    "|p5|$\\sqrt{(9-1)^2 + (9-1)^2} = 11.3$|$\\sqrt{(9-9)^2 + (9-9)^2} = 0.00$|$C_2$|\n",
    "|p6|$\\sqrt{(10-1)^2 + (8-1)^2} = 11.4$|$\\sqrt{(10-9)^2 + (8-9)^2} = 1.41$|$C_2$|\n",
    "\n",
    "optimization of centroids\n",
    "\n",
    "$$\n",
    "\\mu_1 = \\frac{\\sum_n{r_{n1}x_n}}{\\sum_n{r_{n1}}}\n",
    "$$\n",
    "$$\n",
    "= \\frac{1 \\cdot [0,0] + 1 \\cdot [1,2] + 1 \\cdot [2,0] + 0 \\cdot [8,8] + 0 \\cdot [9,9] + 0 \\cdot [10,8] }{1+1+1+0+0+0}\n",
    "$$\n",
    "$$\n",
    "[1,\\frac{2}{3}]\n",
    "$$\n",
    "\n",
    "$$\n",
    "\\mu_2 = \\frac{\\sum_n{r_{n2}x_n}}{\\sum_n{r_{n2}}}\n",
    "$$\n",
    "$$\n",
    "= \\frac{0 \\cdot [0,0] + 0 \\cdot [1,2] + 0 \\cdot [2,0] + 1 \\cdot [8,8] + 1 \\cdot [9,9] + 1 \\cdot [10,8] }{0+0+0+1+1+1}\n",
    "$$\n",
    "$$\n",
    "[9,\\frac{25}{3}]\n",
    "$$\n",
    "\n",
    "\n",
    "## Iteration 2\n",
    "\n",
    "computer the distance of poinst to the centrol\n",
    "\n",
    "|   | $C_1$|$C_2$|$k$|\n",
    "|---|---|---|---|\n",
    "|p1|$\\sqrt{(0-1)^2 + (0-\\frac{2}{3})^2} = 1.20$|$\\sqrt{(0-9)^2 + (0-\\frac{25}{3})^2} = 12.3$|$C_1$|\n",
    "|p2|$\\sqrt{(1-1)^2 + (2-\\frac{2}{3})^2} = 1.33$|$\\sqrt{(1-9)^2 + (2-\\frac{25}{3})^2} = 10.2$|$C_1$|\n",
    "|p3|$\\sqrt{(2-1)^2 + (0-\\frac{2}{3})^2} = 1.20$|$\\sqrt{(2-9)^2 + (0-\\frac{25}{3})^2} = 10.9$|$C_1$|\n",
    "|p4|$\\sqrt{(8-1)^2 + (8-\\frac{2}{3})^2} = 10.1$|$\\sqrt{(8-9)^2 + (8-\\frac{25}{3})^2} = 1.05$|$C_2$|\n",
    "|p5|$\\sqrt{(9-1)^2 + (9-\\frac{2}{3})^2} = 11.6$|$\\sqrt{(9-9)^2 + (9-\\frac{25}{3})^2} = 0.67$|$C_2$|\n",
    "|p6|$\\sqrt{(10-1)^2 + (8-\\frac{2}{3})^2} = 11.6$|$\\sqrt{(10-9)^2 + (8-\\frac{25}{3})^2} = 1.05$|$C_2$|\n",
    "\n",
    "optimization of centroids\n",
    "\n",
    "$$\n",
    "\\mu_1 = \\frac{\\sum_n{r_{n1}x_n}}{\\sum_n{r_{n1}}}\n",
    "$$\n",
    "$$\n",
    "= \\frac{1 \\cdot [0,0] + 1 \\cdot [1,2] + 1 \\cdot [2,0] + 0 \\cdot [8,8] + 0 \\cdot [9,9] + 0 \\cdot [10,8] }{1+1+1+0+0+0}\n",
    "$$\n",
    "$$\n",
    "[1,\\frac{2}{3}]\n",
    "$$\n",
    "\n",
    "$$\n",
    "\\mu_2 = \\frac{\\sum_n{r_{n2}x_n}}{\\sum_n{r_{n2}}}\n",
    "$$\n",
    "$$\n",
    "= \\frac{0 \\cdot [0,0] + 0 \\cdot [1,2] + 0 \\cdot [2,0] + 1 \\cdot [8,8] + 1 \\cdot [9,9] + 1 \\cdot [10,8] }{0+0+0+1+1+1}\n",
    "$$\n",
    "$$\n",
    "[19,\\frac{25}{3}]\n",
    "$$\n",
    "\n",
    "The centroid has converge"
   ]
  },
  {
   "cell_type": "code",
   "execution_count": 2,
   "metadata": {},
   "outputs": [],
   "source": [
    "from sklearn.cluster import KMeans"
   ]
  },
  {
   "cell_type": "code",
   "execution_count": 5,
   "metadata": {},
   "outputs": [],
   "source": [
    "X = [(0,0), (1,2), (2,0), (8,8), (9,9), (10,8)]"
   ]
  },
  {
   "cell_type": "code",
   "execution_count": 6,
   "metadata": {},
   "outputs": [
    {
     "name": "stdout",
     "output_type": "stream",
     "text": [
      "[[1.         0.66666667]\n",
      " [9.         8.33333333]]\n"
     ]
    }
   ],
   "source": [
    "c = 2  # number of clusters\n",
    "kmeans = KMeans(n_clusters=c, random_state=42)\n",
    "kmeans = kmeans.fit(X)\n",
    "\n",
    "print(kmeans.cluster_centers_)"
   ]
  }
 ],
 "metadata": {
  "kernelspec": {
   "display_name": ".venv",
   "language": "python",
   "name": "python3"
  },
  "language_info": {
   "codemirror_mode": {
    "name": "ipython",
    "version": 3
   },
   "file_extension": ".py",
   "mimetype": "text/x-python",
   "name": "python",
   "nbconvert_exporter": "python",
   "pygments_lexer": "ipython3",
   "version": "3.12.3"
  }
 },
 "nbformat": 4,
 "nbformat_minor": 2
}
